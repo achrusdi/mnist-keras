{
 "cells": [
  {
   "cell_type": "code",
   "execution_count": 1,
   "metadata": {},
   "outputs": [],
   "source": [
    "import numpy as np\n",
    "import pandas as pd\n",
    "import matplotlib.pyplot as plt\n",
    "from sklearn.model_selection import train_test_split\n",
    "\n",
    "from keras.preprocessing.image import ImageDataGenerator\n",
    "from keras.utils import to_categorical\n",
    "from keras.models import Sequential, load_model\n",
    "from keras.layers import Dense, Dropout, Flatten\n",
    "from keras.layers import Conv2D, MaxPooling2D, BatchNormalization\n",
    "from keras.optimizers import Adam\n",
    "from keras.callbacks import LearningRateScheduler\n",
    "from keras.callbacks import EarlyStopping"
   ]
  },
  {
   "cell_type": "code",
   "execution_count": 11,
   "metadata": {},
   "outputs": [],
   "source": [
    "#loading data\n",
    "train = pd.read_csv('data/digit-recognizer/train.csv')\n",
    "test = pd.read_csv('data/digit-recognizer/test.csv')\n",
    "\n",
    "df = train.copy()\n",
    "df_test = test.copy()"
   ]
  },
  {
   "cell_type": "code",
   "execution_count": 12,
   "metadata": {},
   "outputs": [
    {
     "data": {
      "text/html": [
       "<div>\n",
       "<style scoped>\n",
       "    .dataframe tbody tr th:only-of-type {\n",
       "        vertical-align: middle;\n",
       "    }\n",
       "\n",
       "    .dataframe tbody tr th {\n",
       "        vertical-align: top;\n",
       "    }\n",
       "\n",
       "    .dataframe thead th {\n",
       "        text-align: right;\n",
       "    }\n",
       "</style>\n",
       "<table border=\"1\" class=\"dataframe\">\n",
       "  <thead>\n",
       "    <tr style=\"text-align: right;\">\n",
       "      <th></th>\n",
       "      <th>label</th>\n",
       "      <th>pixel0</th>\n",
       "      <th>pixel1</th>\n",
       "      <th>pixel2</th>\n",
       "      <th>pixel3</th>\n",
       "      <th>pixel4</th>\n",
       "      <th>pixel5</th>\n",
       "      <th>pixel6</th>\n",
       "      <th>pixel7</th>\n",
       "      <th>pixel8</th>\n",
       "      <th>...</th>\n",
       "      <th>pixel774</th>\n",
       "      <th>pixel775</th>\n",
       "      <th>pixel776</th>\n",
       "      <th>pixel777</th>\n",
       "      <th>pixel778</th>\n",
       "      <th>pixel779</th>\n",
       "      <th>pixel780</th>\n",
       "      <th>pixel781</th>\n",
       "      <th>pixel782</th>\n",
       "      <th>pixel783</th>\n",
       "    </tr>\n",
       "  </thead>\n",
       "  <tbody>\n",
       "    <tr>\n",
       "      <th>count</th>\n",
       "      <td>42000.000000</td>\n",
       "      <td>42000.0</td>\n",
       "      <td>42000.0</td>\n",
       "      <td>42000.0</td>\n",
       "      <td>42000.0</td>\n",
       "      <td>42000.0</td>\n",
       "      <td>42000.0</td>\n",
       "      <td>42000.0</td>\n",
       "      <td>42000.0</td>\n",
       "      <td>42000.0</td>\n",
       "      <td>...</td>\n",
       "      <td>42000.000000</td>\n",
       "      <td>42000.000000</td>\n",
       "      <td>42000.000000</td>\n",
       "      <td>42000.00000</td>\n",
       "      <td>42000.000000</td>\n",
       "      <td>42000.000000</td>\n",
       "      <td>42000.0</td>\n",
       "      <td>42000.0</td>\n",
       "      <td>42000.0</td>\n",
       "      <td>42000.0</td>\n",
       "    </tr>\n",
       "    <tr>\n",
       "      <th>mean</th>\n",
       "      <td>4.456643</td>\n",
       "      <td>0.0</td>\n",
       "      <td>0.0</td>\n",
       "      <td>0.0</td>\n",
       "      <td>0.0</td>\n",
       "      <td>0.0</td>\n",
       "      <td>0.0</td>\n",
       "      <td>0.0</td>\n",
       "      <td>0.0</td>\n",
       "      <td>0.0</td>\n",
       "      <td>...</td>\n",
       "      <td>0.219286</td>\n",
       "      <td>0.117095</td>\n",
       "      <td>0.059024</td>\n",
       "      <td>0.02019</td>\n",
       "      <td>0.017238</td>\n",
       "      <td>0.002857</td>\n",
       "      <td>0.0</td>\n",
       "      <td>0.0</td>\n",
       "      <td>0.0</td>\n",
       "      <td>0.0</td>\n",
       "    </tr>\n",
       "    <tr>\n",
       "      <th>std</th>\n",
       "      <td>2.887730</td>\n",
       "      <td>0.0</td>\n",
       "      <td>0.0</td>\n",
       "      <td>0.0</td>\n",
       "      <td>0.0</td>\n",
       "      <td>0.0</td>\n",
       "      <td>0.0</td>\n",
       "      <td>0.0</td>\n",
       "      <td>0.0</td>\n",
       "      <td>0.0</td>\n",
       "      <td>...</td>\n",
       "      <td>6.312890</td>\n",
       "      <td>4.633819</td>\n",
       "      <td>3.274488</td>\n",
       "      <td>1.75987</td>\n",
       "      <td>1.894498</td>\n",
       "      <td>0.414264</td>\n",
       "      <td>0.0</td>\n",
       "      <td>0.0</td>\n",
       "      <td>0.0</td>\n",
       "      <td>0.0</td>\n",
       "    </tr>\n",
       "    <tr>\n",
       "      <th>min</th>\n",
       "      <td>0.000000</td>\n",
       "      <td>0.0</td>\n",
       "      <td>0.0</td>\n",
       "      <td>0.0</td>\n",
       "      <td>0.0</td>\n",
       "      <td>0.0</td>\n",
       "      <td>0.0</td>\n",
       "      <td>0.0</td>\n",
       "      <td>0.0</td>\n",
       "      <td>0.0</td>\n",
       "      <td>...</td>\n",
       "      <td>0.000000</td>\n",
       "      <td>0.000000</td>\n",
       "      <td>0.000000</td>\n",
       "      <td>0.00000</td>\n",
       "      <td>0.000000</td>\n",
       "      <td>0.000000</td>\n",
       "      <td>0.0</td>\n",
       "      <td>0.0</td>\n",
       "      <td>0.0</td>\n",
       "      <td>0.0</td>\n",
       "    </tr>\n",
       "    <tr>\n",
       "      <th>25%</th>\n",
       "      <td>2.000000</td>\n",
       "      <td>0.0</td>\n",
       "      <td>0.0</td>\n",
       "      <td>0.0</td>\n",
       "      <td>0.0</td>\n",
       "      <td>0.0</td>\n",
       "      <td>0.0</td>\n",
       "      <td>0.0</td>\n",
       "      <td>0.0</td>\n",
       "      <td>0.0</td>\n",
       "      <td>...</td>\n",
       "      <td>0.000000</td>\n",
       "      <td>0.000000</td>\n",
       "      <td>0.000000</td>\n",
       "      <td>0.00000</td>\n",
       "      <td>0.000000</td>\n",
       "      <td>0.000000</td>\n",
       "      <td>0.0</td>\n",
       "      <td>0.0</td>\n",
       "      <td>0.0</td>\n",
       "      <td>0.0</td>\n",
       "    </tr>\n",
       "    <tr>\n",
       "      <th>50%</th>\n",
       "      <td>4.000000</td>\n",
       "      <td>0.0</td>\n",
       "      <td>0.0</td>\n",
       "      <td>0.0</td>\n",
       "      <td>0.0</td>\n",
       "      <td>0.0</td>\n",
       "      <td>0.0</td>\n",
       "      <td>0.0</td>\n",
       "      <td>0.0</td>\n",
       "      <td>0.0</td>\n",
       "      <td>...</td>\n",
       "      <td>0.000000</td>\n",
       "      <td>0.000000</td>\n",
       "      <td>0.000000</td>\n",
       "      <td>0.00000</td>\n",
       "      <td>0.000000</td>\n",
       "      <td>0.000000</td>\n",
       "      <td>0.0</td>\n",
       "      <td>0.0</td>\n",
       "      <td>0.0</td>\n",
       "      <td>0.0</td>\n",
       "    </tr>\n",
       "    <tr>\n",
       "      <th>75%</th>\n",
       "      <td>7.000000</td>\n",
       "      <td>0.0</td>\n",
       "      <td>0.0</td>\n",
       "      <td>0.0</td>\n",
       "      <td>0.0</td>\n",
       "      <td>0.0</td>\n",
       "      <td>0.0</td>\n",
       "      <td>0.0</td>\n",
       "      <td>0.0</td>\n",
       "      <td>0.0</td>\n",
       "      <td>...</td>\n",
       "      <td>0.000000</td>\n",
       "      <td>0.000000</td>\n",
       "      <td>0.000000</td>\n",
       "      <td>0.00000</td>\n",
       "      <td>0.000000</td>\n",
       "      <td>0.000000</td>\n",
       "      <td>0.0</td>\n",
       "      <td>0.0</td>\n",
       "      <td>0.0</td>\n",
       "      <td>0.0</td>\n",
       "    </tr>\n",
       "    <tr>\n",
       "      <th>max</th>\n",
       "      <td>9.000000</td>\n",
       "      <td>0.0</td>\n",
       "      <td>0.0</td>\n",
       "      <td>0.0</td>\n",
       "      <td>0.0</td>\n",
       "      <td>0.0</td>\n",
       "      <td>0.0</td>\n",
       "      <td>0.0</td>\n",
       "      <td>0.0</td>\n",
       "      <td>0.0</td>\n",
       "      <td>...</td>\n",
       "      <td>254.000000</td>\n",
       "      <td>254.000000</td>\n",
       "      <td>253.000000</td>\n",
       "      <td>253.00000</td>\n",
       "      <td>254.000000</td>\n",
       "      <td>62.000000</td>\n",
       "      <td>0.0</td>\n",
       "      <td>0.0</td>\n",
       "      <td>0.0</td>\n",
       "      <td>0.0</td>\n",
       "    </tr>\n",
       "  </tbody>\n",
       "</table>\n",
       "<p>8 rows × 785 columns</p>\n",
       "</div>"
      ],
      "text/plain": [
       "              label   pixel0   pixel1   pixel2   pixel3   pixel4   pixel5  \\\n",
       "count  42000.000000  42000.0  42000.0  42000.0  42000.0  42000.0  42000.0   \n",
       "mean       4.456643      0.0      0.0      0.0      0.0      0.0      0.0   \n",
       "std        2.887730      0.0      0.0      0.0      0.0      0.0      0.0   \n",
       "min        0.000000      0.0      0.0      0.0      0.0      0.0      0.0   \n",
       "25%        2.000000      0.0      0.0      0.0      0.0      0.0      0.0   \n",
       "50%        4.000000      0.0      0.0      0.0      0.0      0.0      0.0   \n",
       "75%        7.000000      0.0      0.0      0.0      0.0      0.0      0.0   \n",
       "max        9.000000      0.0      0.0      0.0      0.0      0.0      0.0   \n",
       "\n",
       "        pixel6   pixel7   pixel8  ...      pixel774      pixel775  \\\n",
       "count  42000.0  42000.0  42000.0  ...  42000.000000  42000.000000   \n",
       "mean       0.0      0.0      0.0  ...      0.219286      0.117095   \n",
       "std        0.0      0.0      0.0  ...      6.312890      4.633819   \n",
       "min        0.0      0.0      0.0  ...      0.000000      0.000000   \n",
       "25%        0.0      0.0      0.0  ...      0.000000      0.000000   \n",
       "50%        0.0      0.0      0.0  ...      0.000000      0.000000   \n",
       "75%        0.0      0.0      0.0  ...      0.000000      0.000000   \n",
       "max        0.0      0.0      0.0  ...    254.000000    254.000000   \n",
       "\n",
       "           pixel776     pixel777      pixel778      pixel779  pixel780  \\\n",
       "count  42000.000000  42000.00000  42000.000000  42000.000000   42000.0   \n",
       "mean       0.059024      0.02019      0.017238      0.002857       0.0   \n",
       "std        3.274488      1.75987      1.894498      0.414264       0.0   \n",
       "min        0.000000      0.00000      0.000000      0.000000       0.0   \n",
       "25%        0.000000      0.00000      0.000000      0.000000       0.0   \n",
       "50%        0.000000      0.00000      0.000000      0.000000       0.0   \n",
       "75%        0.000000      0.00000      0.000000      0.000000       0.0   \n",
       "max      253.000000    253.00000    254.000000     62.000000       0.0   \n",
       "\n",
       "       pixel781  pixel782  pixel783  \n",
       "count   42000.0   42000.0   42000.0  \n",
       "mean        0.0       0.0       0.0  \n",
       "std         0.0       0.0       0.0  \n",
       "min         0.0       0.0       0.0  \n",
       "25%         0.0       0.0       0.0  \n",
       "50%         0.0       0.0       0.0  \n",
       "75%         0.0       0.0       0.0  \n",
       "max         0.0       0.0       0.0  \n",
       "\n",
       "[8 rows x 785 columns]"
      ]
     },
     "execution_count": 12,
     "metadata": {},
     "output_type": "execute_result"
    }
   ],
   "source": [
    "#Just having a look at the data\n",
    "df.describe()"
   ]
  },
  {
   "cell_type": "code",
   "execution_count": 13,
   "metadata": {},
   "outputs": [
    {
     "data": {
      "text/plain": [
       "0"
      ]
     },
     "execution_count": 13,
     "metadata": {},
     "output_type": "execute_result"
    }
   ],
   "source": [
    "#check for any missing values in train data\n",
    "df.isnull().any().sum()"
   ]
  },
  {
   "cell_type": "code",
   "execution_count": 14,
   "metadata": {},
   "outputs": [
    {
     "data": {
      "text/plain": [
       "0"
      ]
     },
     "execution_count": 14,
     "metadata": {},
     "output_type": "execute_result"
    }
   ],
   "source": [
    "#check for any missing values in test data\n",
    "df_test.isnull().any().sum()"
   ]
  },
  {
   "cell_type": "code",
   "execution_count": 15,
   "metadata": {},
   "outputs": [],
   "source": [
    "## Setting the seeds for Reproducibility.\n",
    "seed = 3141\n",
    "np.random.seed(seed)"
   ]
  },
  {
   "cell_type": "code",
   "execution_count": 16,
   "metadata": {},
   "outputs": [],
   "source": [
    "# X is the pixels and Y is the image labels\n",
    "X = train.iloc[:,1:]\n",
    "Y = train.iloc[:,0]\n",
    "\n",
    "#splitting dataframe using train_test_split\n",
    "x_train , x_test , y_train , y_test = train_test_split(X, Y , test_size=0.1, random_state=seed)"
   ]
  },
  {
   "cell_type": "code",
   "execution_count": 17,
   "metadata": {},
   "outputs": [],
   "source": [
    "#first param in reshape is number of examples. We can pass -1 here as we want numpy to figure that out by itself\n",
    "\n",
    "#reshape(examples, height, width, channels)\n",
    "x_train = x_train.values.reshape(-1, 28, 28, 1)\n",
    "x_test = x_test.values.reshape(-1, 28, 28, 1)\n",
    "df_test=df_test.values.reshape(-1,28,28,1)"
   ]
  },
  {
   "cell_type": "code",
   "execution_count": 21,
   "metadata": {},
   "outputs": [],
   "source": [
    "datagen = ImageDataGenerator(\n",
    "            featurewise_center=False,  # set input mean to 0 over the dataset\n",
    "            samplewise_center=False,  # set each sample mean to 0\n",
    "            featurewise_std_normalization=False,  # divide inputs by std of the dataset\n",
    "            samplewise_std_normalization=False,  # divide each input by its std\n",
    "            zca_whitening=False,  # apply ZCA whitening\n",
    "            rotation_range=10,  # randomly rotate images in the range (degrees, 0 to 180)\n",
    "            zoom_range = 0.1, # Randomly zoom image \n",
    "            width_shift_range=0.1,  # randomly shift images horizontally (fraction of total width)\n",
    "            height_shift_range=0.1,  # randomly shift images vertically (fraction of total height)\n",
    "            horizontal_flip=False,  # randomly flip images\n",
    "            vertical_flip=False)  # randomly flip images"
   ]
  },
  {
   "cell_type": "code",
   "execution_count": 23,
   "metadata": {},
   "outputs": [],
   "source": [
    "#convert values to float as result will be a float. If not done vals are set to zero\n",
    "\n",
    "x_train = x_train.astype(\"float32\")/255\n",
    "x_test = x_test.astype(\"float32\")/255\n",
    "df_test = df_test.astype(\"float32\")/255"
   ]
  },
  {
   "cell_type": "code",
   "execution_count": 24,
   "metadata": {},
   "outputs": [],
   "source": [
    "#fitting the ImageDataGenerator we defined above\n",
    "datagen.fit(x_train)"
   ]
  },
  {
   "cell_type": "code",
   "execution_count": 25,
   "metadata": {},
   "outputs": [
    {
     "name": "stdout",
     "output_type": "stream",
     "text": [
      "[0. 0. 1. 0. 0. 0. 0. 0. 0. 0.]\n"
     ]
    }
   ],
   "source": [
    "#notice num_classes is set to 10 as we have 10 different labels\n",
    "y_train = to_categorical(y_train, num_classes=10)\n",
    "y_test = to_categorical(y_test, num_classes=10)\n",
    "\n",
    "print(y_train[0])"
   ]
  },
  {
   "cell_type": "code",
   "execution_count": 26,
   "metadata": {},
   "outputs": [],
   "source": [
    "#Conv2d data_format parameter we use 'channel_last' for imgs\n",
    "\n",
    "model = Sequential()\n",
    "\n",
    "model.add(Conv2D(filters=32, kernel_size=(3, 3), activation='relu', strides=1, padding='same', data_format='channels_last',\n",
    "                 input_shape=(28,28,1)))\n",
    "model.add(BatchNormalization())\n",
    "model.add(Conv2D(filters=32, kernel_size=(3, 3), activation='relu', strides=1, padding='same', data_format='channels_last'))\n",
    "model.add(BatchNormalization())\n",
    "model.add(MaxPooling2D(pool_size=(2, 2), strides=2, padding='valid' ))\n",
    "model.add(Dropout(0.25))\n",
    "\n",
    "model.add(Conv2D(filters=64, kernel_size=(3, 3), activation='relu', strides=1, padding='same', data_format='channels_last'))\n",
    "model.add(BatchNormalization())\n",
    "model.add(Conv2D(filters=64, kernel_size=(3, 3), strides=1, padding='same', activation='relu', data_format='channels_last'))\n",
    "model.add(BatchNormalization())\n",
    "model.add(MaxPooling2D(pool_size=(2, 2), padding='valid', strides=2))\n",
    "model.add(Dropout(0.25))\n",
    "\n",
    "model.add(Flatten())\n",
    "model.add(Dense(512, activation='relu'))\n",
    "model.add(BatchNormalization())\n",
    "model.add(Dropout(0.25))\n",
    "model.add(Dense(1024, activation='relu'))\n",
    "model.add(BatchNormalization())\n",
    "model.add(Dropout(0.5))\n",
    "model.add(Dense(10, activation='softmax'))"
   ]
  },
  {
   "cell_type": "code",
   "execution_count": 27,
   "metadata": {},
   "outputs": [
    {
     "name": "stderr",
     "output_type": "stream",
     "text": [
      "d:\\112\\program\\matang\\anaconda3\\envs\\ML\\lib\\site-packages\\keras\\optimizers\\optimizer_v2\\adam.py:114: UserWarning: The `lr` argument is deprecated, use `learning_rate` instead.\n",
      "  super().__init__(name, **kwargs)\n"
     ]
    }
   ],
   "source": [
    "#Optimizer\n",
    "optimizer = Adam(lr=0.001, beta_1=0.9, beta_2=0.999 )"
   ]
  },
  {
   "cell_type": "code",
   "execution_count": 28,
   "metadata": {},
   "outputs": [],
   "source": [
    "#Compiling the model\n",
    "model.compile(optimizer=optimizer, loss=\"categorical_crossentropy\", metrics=[\"accuracy\"])"
   ]
  },
  {
   "cell_type": "code",
   "execution_count": 29,
   "metadata": {},
   "outputs": [
    {
     "name": "stdout",
     "output_type": "stream",
     "text": [
      "Model: \"sequential\"\n",
      "_________________________________________________________________\n",
      " Layer (type)                Output Shape              Param #   \n",
      "=================================================================\n",
      " conv2d (Conv2D)             (None, 28, 28, 32)        320       \n",
      "                                                                 \n",
      " batch_normalization (BatchN  (None, 28, 28, 32)       128       \n",
      " ormalization)                                                   \n",
      "                                                                 \n",
      " conv2d_1 (Conv2D)           (None, 28, 28, 32)        9248      \n",
      "                                                                 \n",
      " batch_normalization_1 (Batc  (None, 28, 28, 32)       128       \n",
      " hNormalization)                                                 \n",
      "                                                                 \n",
      " max_pooling2d (MaxPooling2D  (None, 14, 14, 32)       0         \n",
      " )                                                               \n",
      "                                                                 \n",
      " dropout (Dropout)           (None, 14, 14, 32)        0         \n",
      "                                                                 \n",
      " conv2d_2 (Conv2D)           (None, 14, 14, 64)        18496     \n",
      "                                                                 \n",
      " batch_normalization_2 (Batc  (None, 14, 14, 64)       256       \n",
      " hNormalization)                                                 \n",
      "                                                                 \n",
      " conv2d_3 (Conv2D)           (None, 14, 14, 64)        36928     \n",
      "                                                                 \n",
      " batch_normalization_3 (Batc  (None, 14, 14, 64)       256       \n",
      " hNormalization)                                                 \n",
      "                                                                 \n",
      " max_pooling2d_1 (MaxPooling  (None, 7, 7, 64)         0         \n",
      " 2D)                                                             \n",
      "                                                                 \n",
      " dropout_1 (Dropout)         (None, 7, 7, 64)          0         \n",
      "                                                                 \n",
      " flatten (Flatten)           (None, 3136)              0         \n",
      "                                                                 \n",
      " dense (Dense)               (None, 512)               1606144   \n",
      "                                                                 \n",
      " batch_normalization_4 (Batc  (None, 512)              2048      \n",
      " hNormalization)                                                 \n",
      "                                                                 \n",
      " dropout_2 (Dropout)         (None, 512)               0         \n",
      "                                                                 \n",
      " dense_1 (Dense)             (None, 1024)              525312    \n",
      "                                                                 \n",
      " batch_normalization_5 (Batc  (None, 1024)             4096      \n",
      " hNormalization)                                                 \n",
      "                                                                 \n",
      " dropout_3 (Dropout)         (None, 1024)              0         \n",
      "                                                                 \n",
      " dense_2 (Dense)             (None, 10)                10250     \n",
      "                                                                 \n",
      "=================================================================\n",
      "Total params: 2,213,610\n",
      "Trainable params: 2,210,154\n",
      "Non-trainable params: 3,456\n",
      "_________________________________________________________________\n"
     ]
    }
   ],
   "source": [
    "model.summary()"
   ]
  },
  {
   "cell_type": "code",
   "execution_count": 30,
   "metadata": {},
   "outputs": [],
   "source": [
    "#for our case LearningRateScheduler will work great\n",
    "reduce_lr = LearningRateScheduler(lambda x: 1e-3 * 0.9 ** x)"
   ]
  },
  {
   "cell_type": "code",
   "execution_count": 31,
   "metadata": {},
   "outputs": [
    {
     "name": "stdout",
     "output_type": "stream",
     "text": [
      "Epoch 1 Learning Rate: 0.001\n",
      "Epoch 2 Learning Rate: 0.0009000000000000001\n",
      "Epoch 3 Learning Rate: 0.0008100000000000001\n",
      "Epoch 4 Learning Rate: 0.0007290000000000002\n",
      "Epoch 5 Learning Rate: 0.0006561000000000001\n",
      "Epoch 6 Learning Rate: 0.00059049\n",
      "Epoch 7 Learning Rate: 0.000531441\n",
      "Epoch 8 Learning Rate: 0.0004782969000000001\n",
      "Epoch 9 Learning Rate: 0.0004304672100000001\n",
      "Epoch 10 Learning Rate: 0.0003874204890000001\n"
     ]
    }
   ],
   "source": [
    "#visualizing what the learning rate decay will do to the learning rate through every epoch\n",
    "decays = [(lambda x: 1e-3 * 0.9 ** x)(x) for x in range(10)]\n",
    "i=1\n",
    "\n",
    "for lr in decays:\n",
    "    print(\"Epoch \" + str(i) +\" Learning Rate: \" + str(lr))\n",
    "    i+=1"
   ]
  },
  {
   "cell_type": "code",
   "execution_count": 32,
   "metadata": {},
   "outputs": [],
   "source": [
    "#by default this is evaluated on 'val_loss'\n",
    "early_stopping = EarlyStopping(\n",
    "    min_delta=0.001, # minimium amount of change to count as an improvement\n",
    "    patience=20, # how many epochs to wait before stopping\n",
    "    restore_best_weights=True,\n",
    ")"
   ]
  },
  {
   "cell_type": "code",
   "execution_count": 33,
   "metadata": {},
   "outputs": [],
   "source": [
    "#defining these prior to model to increase readability and debugging\n",
    "batch_size = 64\n",
    "epochs = 50"
   ]
  },
  {
   "cell_type": "code",
   "execution_count": 34,
   "metadata": {},
   "outputs": [
    {
     "name": "stderr",
     "output_type": "stream",
     "text": [
      "C:\\Users\\achru\\AppData\\Local\\Temp\\ipykernel_33772\\4224154261.py:2: UserWarning: `Model.fit_generator` is deprecated and will be removed in a future version. Please use `Model.fit`, which supports generators.\n",
      "  history = model.fit_generator(datagen.flow(x_train, y_train, batch_size = batch_size), epochs = epochs,\n"
     ]
    },
    {
     "name": "stdout",
     "output_type": "stream",
     "text": [
      "Epoch 1/50\n",
      "590/590 [==============================] - 247s 413ms/step - loss: 0.3684 - accuracy: 0.8916 - val_loss: 0.1920 - val_accuracy: 0.9410 - lr: 0.0010\n",
      "Epoch 2/50\n",
      "590/590 [==============================] - 243s 412ms/step - loss: 0.1265 - accuracy: 0.9600 - val_loss: 0.0613 - val_accuracy: 0.9800 - lr: 9.0000e-04\n",
      "Epoch 3/50\n",
      "590/590 [==============================] - 226s 383ms/step - loss: 0.0979 - accuracy: 0.9706 - val_loss: 0.0619 - val_accuracy: 0.9848 - lr: 8.1000e-04\n",
      "Epoch 4/50\n",
      "590/590 [==============================] - 226s 383ms/step - loss: 0.0795 - accuracy: 0.9754 - val_loss: 0.0329 - val_accuracy: 0.9912 - lr: 7.2900e-04\n",
      "Epoch 5/50\n",
      "590/590 [==============================] - 223s 378ms/step - loss: 0.0685 - accuracy: 0.9787 - val_loss: 0.0300 - val_accuracy: 0.9902 - lr: 6.5610e-04\n",
      "Epoch 6/50\n",
      "590/590 [==============================] - 237s 402ms/step - loss: 0.0650 - accuracy: 0.9802 - val_loss: 0.0247 - val_accuracy: 0.9907 - lr: 5.9049e-04\n",
      "Epoch 7/50\n",
      "590/590 [==============================] - 220s 372ms/step - loss: 0.0600 - accuracy: 0.9825 - val_loss: 0.0476 - val_accuracy: 0.9871 - lr: 5.3144e-04\n",
      "Epoch 8/50\n",
      "590/590 [==============================] - 226s 384ms/step - loss: 0.0532 - accuracy: 0.9843 - val_loss: 0.0322 - val_accuracy: 0.9917 - lr: 4.7830e-04\n",
      "Epoch 9/50\n",
      "590/590 [==============================] - 223s 377ms/step - loss: 0.0474 - accuracy: 0.9851 - val_loss: 0.0243 - val_accuracy: 0.9919 - lr: 4.3047e-04\n",
      "Epoch 10/50\n",
      "590/590 [==============================] - 238s 403ms/step - loss: 0.0453 - accuracy: 0.9863 - val_loss: 0.0230 - val_accuracy: 0.9936 - lr: 3.8742e-04\n",
      "Epoch 11/50\n",
      "590/590 [==============================] - 223s 379ms/step - loss: 0.0394 - accuracy: 0.9885 - val_loss: 0.0237 - val_accuracy: 0.9931 - lr: 3.4868e-04\n",
      "Epoch 12/50\n",
      "590/590 [==============================] - 232s 392ms/step - loss: 0.0362 - accuracy: 0.9885 - val_loss: 0.0204 - val_accuracy: 0.9940 - lr: 3.1381e-04\n",
      "Epoch 13/50\n",
      "590/590 [==============================] - 226s 383ms/step - loss: 0.0337 - accuracy: 0.9899 - val_loss: 0.0243 - val_accuracy: 0.9914 - lr: 2.8243e-04\n",
      "Epoch 14/50\n",
      "590/590 [==============================] - 235s 398ms/step - loss: 0.0341 - accuracy: 0.9899 - val_loss: 0.0210 - val_accuracy: 0.9950 - lr: 2.5419e-04\n",
      "Epoch 15/50\n",
      "590/590 [==============================] - 227s 385ms/step - loss: 0.0307 - accuracy: 0.9900 - val_loss: 0.0192 - val_accuracy: 0.9945 - lr: 2.2877e-04\n",
      "Epoch 16/50\n",
      "590/590 [==============================] - 219s 372ms/step - loss: 0.0280 - accuracy: 0.9917 - val_loss: 0.0172 - val_accuracy: 0.9943 - lr: 2.0589e-04\n",
      "Epoch 17/50\n",
      "590/590 [==============================] - 221s 375ms/step - loss: 0.0286 - accuracy: 0.9909 - val_loss: 0.0174 - val_accuracy: 0.9940 - lr: 1.8530e-04\n",
      "Epoch 18/50\n",
      "590/590 [==============================] - 231s 391ms/step - loss: 0.0267 - accuracy: 0.9917 - val_loss: 0.0171 - val_accuracy: 0.9948 - lr: 1.6677e-04\n",
      "Epoch 19/50\n",
      "590/590 [==============================] - 230s 390ms/step - loss: 0.0233 - accuracy: 0.9925 - val_loss: 0.0161 - val_accuracy: 0.9955 - lr: 1.5009e-04\n",
      "Epoch 20/50\n",
      "590/590 [==============================] - 221s 374ms/step - loss: 0.0247 - accuracy: 0.9927 - val_loss: 0.0169 - val_accuracy: 0.9943 - lr: 1.3509e-04\n",
      "Epoch 21/50\n",
      "590/590 [==============================] - 226s 383ms/step - loss: 0.0210 - accuracy: 0.9936 - val_loss: 0.0170 - val_accuracy: 0.9952 - lr: 1.2158e-04\n",
      "Epoch 22/50\n",
      "590/590 [==============================] - 229s 387ms/step - loss: 0.0210 - accuracy: 0.9933 - val_loss: 0.0146 - val_accuracy: 0.9955 - lr: 1.0942e-04\n",
      "Epoch 23/50\n",
      "590/590 [==============================] - 238s 403ms/step - loss: 0.0225 - accuracy: 0.9927 - val_loss: 0.0149 - val_accuracy: 0.9955 - lr: 9.8477e-05\n",
      "Epoch 24/50\n",
      "590/590 [==============================] - 247s 418ms/step - loss: 0.0215 - accuracy: 0.9937 - val_loss: 0.0147 - val_accuracy: 0.9952 - lr: 8.8629e-05\n",
      "Epoch 25/50\n",
      "590/590 [==============================] - 239s 405ms/step - loss: 0.0197 - accuracy: 0.9943 - val_loss: 0.0165 - val_accuracy: 0.9952 - lr: 7.9766e-05\n",
      "Epoch 26/50\n",
      "590/590 [==============================] - 242s 409ms/step - loss: 0.0176 - accuracy: 0.9942 - val_loss: 0.0153 - val_accuracy: 0.9948 - lr: 7.1790e-05\n",
      "Epoch 27/50\n",
      "590/590 [==============================] - 234s 395ms/step - loss: 0.0188 - accuracy: 0.9940 - val_loss: 0.0145 - val_accuracy: 0.9950 - lr: 6.4611e-05\n",
      "Epoch 28/50\n",
      "590/590 [==============================] - 235s 398ms/step - loss: 0.0175 - accuracy: 0.9944 - val_loss: 0.0138 - val_accuracy: 0.9957 - lr: 5.8150e-05\n",
      "Epoch 29/50\n",
      "590/590 [==============================] - 230s 389ms/step - loss: 0.0172 - accuracy: 0.9947 - val_loss: 0.0163 - val_accuracy: 0.9957 - lr: 5.2335e-05\n",
      "Epoch 30/50\n",
      "590/590 [==============================] - 231s 392ms/step - loss: 0.0170 - accuracy: 0.9945 - val_loss: 0.0146 - val_accuracy: 0.9957 - lr: 4.7101e-05\n",
      "Epoch 31/50\n",
      "590/590 [==============================] - 220s 373ms/step - loss: 0.0157 - accuracy: 0.9947 - val_loss: 0.0151 - val_accuracy: 0.9955 - lr: 4.2391e-05\n",
      "Epoch 32/50\n",
      "590/590 [==============================] - 219s 371ms/step - loss: 0.0160 - accuracy: 0.9948 - val_loss: 0.0139 - val_accuracy: 0.9957 - lr: 3.8152e-05\n",
      "Epoch 33/50\n",
      "590/590 [==============================] - 220s 374ms/step - loss: 0.0148 - accuracy: 0.9951 - val_loss: 0.0141 - val_accuracy: 0.9957 - lr: 3.4337e-05\n",
      "Epoch 34/50\n",
      "590/590 [==============================] - 221s 374ms/step - loss: 0.0155 - accuracy: 0.9952 - val_loss: 0.0134 - val_accuracy: 0.9957 - lr: 3.0903e-05\n",
      "Epoch 35/50\n",
      "590/590 [==============================] - 229s 388ms/step - loss: 0.0147 - accuracy: 0.9955 - val_loss: 0.0144 - val_accuracy: 0.9957 - lr: 2.7813e-05\n",
      "Epoch 36/50\n",
      "590/590 [==============================] - 222s 375ms/step - loss: 0.0149 - accuracy: 0.9951 - val_loss: 0.0135 - val_accuracy: 0.9955 - lr: 2.5032e-05\n",
      "Epoch 37/50\n",
      "590/590 [==============================] - 221s 375ms/step - loss: 0.0155 - accuracy: 0.9948 - val_loss: 0.0143 - val_accuracy: 0.9955 - lr: 2.2528e-05\n",
      "Epoch 38/50\n",
      "590/590 [==============================] - 241s 409ms/step - loss: 0.0149 - accuracy: 0.9953 - val_loss: 0.0149 - val_accuracy: 0.9952 - lr: 2.0276e-05\n",
      "Epoch 39/50\n",
      "590/590 [==============================] - 254s 430ms/step - loss: 0.0134 - accuracy: 0.9959 - val_loss: 0.0145 - val_accuracy: 0.9955 - lr: 1.8248e-05\n",
      "Epoch 40/50\n",
      "590/590 [==============================] - 249s 421ms/step - loss: 0.0147 - accuracy: 0.9953 - val_loss: 0.0141 - val_accuracy: 0.9960 - lr: 1.6423e-05\n",
      "Epoch 41/50\n",
      "590/590 [==============================] - 265s 450ms/step - loss: 0.0132 - accuracy: 0.9961 - val_loss: 0.0133 - val_accuracy: 0.9960 - lr: 1.4781e-05\n",
      "Epoch 42/50\n",
      "590/590 [==============================] - 277s 469ms/step - loss: 0.0135 - accuracy: 0.9956 - val_loss: 0.0131 - val_accuracy: 0.9957 - lr: 1.3303e-05\n",
      "Epoch 43/50\n",
      "590/590 [==============================] - 281s 476ms/step - loss: 0.0137 - accuracy: 0.9957 - val_loss: 0.0129 - val_accuracy: 0.9960 - lr: 1.1973e-05\n",
      "Epoch 44/50\n",
      "590/590 [==============================] - 217s 368ms/step - loss: 0.0135 - accuracy: 0.9956 - val_loss: 0.0132 - val_accuracy: 0.9957 - lr: 1.0775e-05\n",
      "Epoch 45/50\n",
      "590/590 [==============================] - 223s 378ms/step - loss: 0.0132 - accuracy: 0.9958 - val_loss: 0.0136 - val_accuracy: 0.9957 - lr: 9.6977e-06\n",
      "Epoch 46/50\n",
      "590/590 [==============================] - 231s 392ms/step - loss: 0.0142 - accuracy: 0.9957 - val_loss: 0.0138 - val_accuracy: 0.9957 - lr: 8.7280e-06\n",
      "Epoch 47/50\n",
      "590/590 [==============================] - 225s 380ms/step - loss: 0.0129 - accuracy: 0.9960 - val_loss: 0.0135 - val_accuracy: 0.9957 - lr: 7.8552e-06\n",
      "Epoch 48/50\n",
      "590/590 [==============================] - 231s 392ms/step - loss: 0.0134 - accuracy: 0.9958 - val_loss: 0.0135 - val_accuracy: 0.9960 - lr: 7.0697e-06\n",
      "Epoch 49/50\n",
      "590/590 [==============================] - 217s 368ms/step - loss: 0.0133 - accuracy: 0.9961 - val_loss: 0.0139 - val_accuracy: 0.9957 - lr: 6.3627e-06\n",
      "Epoch 50/50\n",
      "590/590 [==============================] - 229s 388ms/step - loss: 0.0141 - accuracy: 0.9957 - val_loss: 0.0139 - val_accuracy: 0.9960 - lr: 5.7264e-06\n"
     ]
    }
   ],
   "source": [
    "# Fit the Model\n",
    "history = model.fit_generator(datagen.flow(x_train, y_train, batch_size = batch_size), epochs = epochs, \n",
    "                              validation_data = (x_test, y_test), verbose=1, \n",
    "                              steps_per_epoch=x_train.shape[0] // batch_size,\n",
    "                              callbacks = [reduce_lr]) #left out early_stopping parameter as it gets better accuracy"
   ]
  },
  {
   "cell_type": "code",
   "execution_count": 35,
   "metadata": {},
   "outputs": [],
   "source": [
    "import matplotlib.pyplot as plt"
   ]
  },
  {
   "cell_type": "code",
   "execution_count": 36,
   "metadata": {},
   "outputs": [
    {
     "data": {
      "image/png": "[encoded data removed]",
      "text/plain": [
       "<Figure size 1300x500 with 1 Axes>"
      ]
     },
     "metadata": {},
     "output_type": "display_data"
    }
   ],
   "source": [
    "plt.figure(figsize=(13, 5))\n",
    "plt.plot(history.history['loss'])\n",
    "plt.plot(history.history['val_loss'])\n",
    "plt.title(\"Model Loss\")\n",
    "plt.xlabel('Epochs')\n",
    "plt.ylabel('Loss')\n",
    "plt.legend(['Train', 'Test'])\n",
    "plt.grid()\n",
    "plt.show()"
   ]
  },
  {
   "cell_type": "code",
   "execution_count": 37,
   "metadata": {},
   "outputs": [
    {
     "data": {
      "image/png": "[encoded data removed]",
      "text/plain": [
       "<Figure size 1300x500 with 1 Axes>"
      ]
     },
     "metadata": {},
     "output_type": "display_data"
    }
   ],
   "source": [
    "plt.figure(figsize=(13, 5))\n",
    "plt.plot(history.history['accuracy'])\n",
    "plt.plot(history.history['val_accuracy'])\n",
    "plt.title('Model Accuracy')\n",
    "plt.xlabel('Epochs')\n",
    "plt.ylabel('Accuracy')\n",
    "plt.legend(['Train','Test'])\n",
    "plt.grid()\n",
    "plt.show()"
   ]
  },
  {
   "cell_type": "code",
   "execution_count": 40,
   "metadata": {},
   "outputs": [
    {
     "name": "stdout",
     "output_type": "stream",
     "text": [
      "875/875 [==============================] - 10s 11ms/step\n"
     ]
    }
   ],
   "source": [
    "pred_digits_test = np.argmax(model.predict(df_test),axis=1)\n",
    "image_id_test = []\n",
    "\n",
    "for i in range (len(pred_digits_test)):\n",
    "    image_id_test.append(i+1)\n",
    "    \n",
    "d = {'ImageId':image_id_test,'Label':pred_digits_test}\n",
    "answer = pd.DataFrame(d)\n",
    "\n",
    "answer.to_csv('answer.csv',index=False)"
   ]
  }
 ],
 "metadata": {
  "kernelspec": {
   "display_name": "ML",
   "language": "python",
   "name": "python3"
  },
  "language_info": {
   "codemirror_mode": {
    "name": "ipython",
    "version": 3
   },
   "file_extension": ".py",
   "mimetype": "text/x-python",
   "name": "python",
   "nbconvert_exporter": "python",
   "pygments_lexer": "ipython3",
   "version": "3.10.13"
  }
 },
 "nbformat": 4,
 "nbformat_minor": 2
}
